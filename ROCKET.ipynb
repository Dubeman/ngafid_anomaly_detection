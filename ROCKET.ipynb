{
 "cells": [
  {
   "cell_type": "code",
   "execution_count": null,
   "metadata": {},
   "outputs": [
    {
     "ename": "",
     "evalue": "",
     "output_type": "error",
     "traceback": [
      "\u001b[1;31mRunning cells with 'ngafid_env (Python 3.9.20)' requires the ipykernel package.\n",
      "\u001b[1;31mRun the following command to install 'ipykernel' into the Python environment. \n",
      "\u001b[1;31mCommand: 'conda install -n ngafid_env ipykernel --update-deps --force-reinstall'"
     ]
    }
   ],
   "source": [
    "# Load a chunk of the data\n",
    "import pandas as pd\n",
    "import numpy as np\n",
    "import sys\n",
    "import os\n",
    "from rocket_forecasting import *\n",
    "import joblib\n",
    "from rocket.code import *\n",
    "\n"
   ]
  },
  {
   "cell_type": "code",
   "execution_count": 3,
   "metadata": {},
   "outputs": [],
   "source": [
    "chunk_size = 10000\n",
    "data = pd.read_csv('data/NGAFID_imputed_data.csv', chunksize=chunk_size)\n"
   ]
  },
  {
   "cell_type": "code",
   "execution_count": 5,
   "metadata": {},
   "outputs": [
    {
     "name": "stdout",
     "output_type": "stream",
     "text": [
      "<class 'pandas.core.frame.DataFrame'>\n"
     ]
    }
   ],
   "source": [
    "data_chunk = next(data)\n",
    "print(data_chunk)\n"
   ]
  },
  {
   "cell_type": "code",
   "execution_count": 6,
   "metadata": {},
   "outputs": [
    {
     "ename": "NameError",
     "evalue": "name 'generate_kernels' is not defined",
     "output_type": "error",
     "traceback": [
      "\u001b[0;31m---------------------------------------------------------------------------\u001b[0m",
      "\u001b[0;31mNameError\u001b[0m                                 Traceback (most recent call last)",
      "Cell \u001b[0;32mIn[6], line 2\u001b[0m\n\u001b[1;32m      1\u001b[0m num_kernels \u001b[38;5;241m=\u001b[39m \u001b[38;5;241m100\u001b[39m\n\u001b[0;32m----> 2\u001b[0m kernels \u001b[38;5;241m=\u001b[39m \u001b[43mgenerate_kernels\u001b[49m(data_chunk\u001b[38;5;241m.\u001b[39mshape[\u001b[38;5;241m0\u001b[39m],num_kernels)\n",
      "\u001b[0;31mNameError\u001b[0m: name 'generate_kernels' is not defined"
     ]
    }
   ],
   "source": [
    "num_kernels = 100\n",
    "kernels = generate_kernels(data_chunk.shape[0],num_kernels)"
   ]
  },
  {
   "cell_type": "code",
   "execution_count": 9,
   "metadata": {},
   "outputs": [
    {
     "name": "stdout",
     "output_type": "stream",
     "text": [
      "Weights :  (886,)\n",
      "Length:  (100,)\n",
      "Bias:  (100,)\n",
      "padding:  (100,)\n",
      "dilation (Stride):  (100,)\n"
     ]
    }
   ],
   "source": [
    "#print all the shapes of the returned values\n",
    "print(\"Weights : \",kernels[0].shape)\n",
    "print(\"Length: \",kernels[1].shape)\n",
    "print(\"Bias: \",kernels[2].shape)\n",
    "print(\"padding: \",kernels[3].shape)\n",
    "print(\"dilation (Stride): \", kernels[4].shape)\n"
   ]
  },
  {
   "cell_type": "code",
   "execution_count": 14,
   "metadata": {},
   "outputs": [
    {
     "name": "stdout",
     "output_type": "stream",
     "text": [
      "[ 1.14363312e+00 -1.59400799e-01 -3.09386684e-01 -2.48714890e-01\n",
      " -1.22737129e+00  9.66958286e-01 -1.65717750e-01  1.13780057e+00\n",
      "  3.23503524e-01 -2.22045318e-01  2.09887402e-01  1.02238378e+00\n",
      "  7.64714764e-01 -4.88169995e-02 -8.56526816e-01 -2.33090091e+00\n",
      "  1.47503881e+00  1.56892521e+00  8.85233532e-01 -7.62661267e-01\n",
      "  3.47812134e-02 -7.85209389e-01 -1.87926586e+00 -1.42597447e-01\n",
      " -3.94244802e-01  1.31909789e+00 -5.55213003e-01 -1.22885659e+00\n",
      " -1.06914279e+00  8.85551240e-01  6.33089522e-01  1.54737255e-02\n",
      " -1.05381266e-01 -5.97925018e-01 -4.55015738e-01  5.70847430e-01\n",
      "  1.48729520e+00 -2.72300159e-01  5.23495468e-01 -3.33442436e-01\n",
      " -8.66207221e-01 -7.89030369e-01  8.37664108e-01 -1.41711963e+00\n",
      "  1.51277569e+00 -1.18322764e+00 -1.37460641e+00  2.89896446e-01\n",
      "  1.14648320e+00  1.02579834e+00 -9.14675705e-01  6.50810094e-01\n",
      " -2.60989117e-01  1.68721293e+00  7.50966418e-01 -7.41179759e-01\n",
      " -1.17214486e+00  9.94239992e-01 -1.33708591e+00 -8.45119170e-01\n",
      " -1.06025165e+00  9.58373068e-01  3.04098856e-01  9.85744808e-01\n",
      " -1.96055282e-01  5.78754901e-01 -7.04181837e-01 -7.22402869e-01\n",
      " -2.38879588e-01 -1.67682679e-01  1.06229313e-01  5.39728093e-01\n",
      "  1.07732978e-01  5.20695732e-01  1.76061238e-01  1.09871845e+00\n",
      "  7.18287440e-01 -3.02802381e-01 -1.58935792e-01  2.03989103e+00\n",
      " -2.43807795e-01 -8.60082180e-01  2.32563471e-01 -1.82220149e+00\n",
      " -3.78856432e-01 -3.22774328e-01  1.96788053e+00 -6.25190505e-01\n",
      "  1.46219202e-01 -1.01451703e+00  1.38054506e-01 -3.42107624e-01\n",
      " -2.70339083e-01 -5.42778722e-01  5.45506235e-01  3.01152393e-01\n",
      " -7.76796587e-01  1.41967385e+00 -1.60845900e+00  1.68682903e-01\n",
      " -1.67143677e-01  6.60162607e-01  1.40651249e+00 -5.22805060e-01\n",
      " -4.29356223e-01  4.79895291e-01 -1.48138658e+00 -1.11901250e+00\n",
      "  1.66615258e+00  2.38635350e-02 -2.25404959e+00  8.46929286e-01\n",
      " -2.97414945e-01  1.66738047e+00  5.09854939e-01 -4.96563699e-01\n",
      " -1.83052233e-01 -8.99671847e-01  7.33517309e-01  1.03184914e+00\n",
      " -1.01513780e-01  1.39780125e-01 -1.57342202e+00  1.26988013e+00\n",
      " -4.17366818e-01 -6.10741869e-01 -1.07665558e+00  6.07425320e-01\n",
      " -9.82695638e-01 -8.86564728e-01  2.08601089e+00  2.14611809e-01\n",
      "  8.33996832e-01 -1.85387036e-01  9.80311287e-01 -6.04235637e-01\n",
      "  7.46871469e-01 -1.76260834e-01 -2.15568407e-02 -6.19126562e-01\n",
      "  7.28958626e-02 -6.93261936e-01  3.14363191e-01  2.53694599e-01\n",
      " -8.29325897e-01  5.16434819e-01 -1.10801266e-01 -2.99531504e-01\n",
      "  4.04795571e-01  1.51268991e+00 -8.97141824e-01  1.12356196e+00\n",
      " -6.97594495e-01 -9.76781872e-01  8.19989829e-01 -1.02201903e+00\n",
      "  9.98222461e-01  2.39744468e-01 -8.59367172e-02  3.51619045e-01\n",
      " -1.23400692e-01 -1.88748992e-01  7.19946129e-01 -4.38681863e-02\n",
      " -1.66554832e+00  2.57301400e-01 -1.52094240e+00 -1.13495112e+00\n",
      "  1.95731196e+00 -7.48642835e-01 -4.34397819e-01 -3.43159732e-01\n",
      "  3.29791902e-01  2.34115431e-01  1.36439944e+00  3.91737791e-02\n",
      "  1.09008257e+00  6.12396687e-01  6.20618563e-01 -6.72157444e-01\n",
      "  5.59194134e-01 -2.15073000e+00 -5.94045098e-02  3.68168803e-01\n",
      "  2.08726024e-01 -2.55782227e-01  5.73350587e-02 -1.12401491e-01\n",
      "  1.13925980e+00 -1.72908999e+00  2.28590008e-01 -3.58479576e-01\n",
      "  3.11999729e-02  4.22473615e-01  9.90414186e-01 -4.54018902e-01\n",
      " -1.59206150e+00  4.41134450e-01  6.30198210e-02 -4.87821277e-01\n",
      "  1.03933322e+00  8.76440522e-01  5.11441507e-01  6.78131282e-01\n",
      "  2.27368202e-01 -1.98515602e+00  2.17523407e+00 -1.45817068e+00\n",
      " -9.03340314e-01 -1.21948567e-01 -1.92872531e+00 -9.47032958e-01\n",
      " -1.77242337e-01  8.91133000e-01 -1.12640632e-01  5.54360074e-03\n",
      "  2.97319300e+00 -1.08651733e+00  3.82288958e-01 -1.15394050e+00\n",
      "  4.09117474e-01  6.15039659e-03 -8.90480916e-01  5.28992978e-01\n",
      " -1.95356347e+00  7.59739430e-01  2.31390959e+00 -1.99249766e-02\n",
      "  3.36527206e-01 -1.02719896e+00 -1.12448174e+00  1.47012328e-01\n",
      " -1.77412990e-01  1.93921308e-01  1.65163284e+00 -5.72668339e-02\n",
      " -1.49192870e+00  6.65233850e-01  1.68022532e+00  7.91448996e-01\n",
      "  7.80519400e-01 -1.95524505e+00  8.48413681e-02 -4.97828350e-01\n",
      "  4.98402368e-01 -5.17913164e-01 -5.45664232e-01 -5.12885434e-01\n",
      "  1.56048446e+00 -3.35872598e-01  1.15120098e+00 -3.68410539e-02\n",
      " -1.26091133e+00 -1.49535011e+00  6.81284149e-01  7.56766978e-01\n",
      "  9.78785337e-01 -5.34532117e-01  4.11202169e-01 -7.98156408e-01\n",
      "  4.43763627e-01 -1.20908994e+00  8.34918553e-01 -4.28664366e-02\n",
      "  1.37087660e+00 -9.15164850e-01  8.94049308e-01 -8.50711330e-01\n",
      " -5.25775531e-01 -9.49691844e-01  5.00732248e-01 -1.67502965e+00\n",
      " -8.25422115e-01  2.10626947e+00 -7.76849723e-01  4.68020018e-01\n",
      " -5.53462547e-01  1.18255062e+00  4.04209779e-01  1.18673748e-01\n",
      " -1.12786865e+00 -1.95457466e-01 -4.54875751e-01  1.84365596e-03\n",
      "  9.32950204e-01  3.59426332e-01  5.00528451e-01  6.94040710e-01\n",
      " -7.10587489e-01  4.46597532e-01 -2.47431982e-01 -1.27667819e+00\n",
      " -2.17116070e-01 -3.17806880e-01  6.58974474e-01  9.53461120e-01\n",
      "  1.03561079e+00 -3.17976274e-01  9.41853432e-01 -2.27283808e+00\n",
      "  2.37778122e+00 -5.54655584e-01 -1.28639921e+00  1.11212114e-01\n",
      " -3.45884079e-02  1.97381642e+00 -4.08999721e-01 -4.12546740e-02\n",
      "  9.97684848e-01  2.34656733e-01 -1.23899344e+00 -7.39726181e-01\n",
      " -5.47196212e-01 -9.10896804e-02  1.27557585e-01 -2.66455674e-01\n",
      "  2.57082710e-01  1.07673371e+00  4.95213390e-02 -9.63938034e-01\n",
      " -5.19472305e-01  1.75513472e-01 -1.23939651e+00 -6.75098847e-02\n",
      "  1.23146550e+00 -8.49430030e-01  4.73846594e-01 -8.96373465e-01\n",
      "  5.24457591e-03  1.22631574e+00 -6.23603914e-01 -5.01027843e-01\n",
      "  8.73272186e-01  2.91756151e-01  8.05752383e-01 -2.07270496e+00\n",
      " -6.07533073e-02 -1.32287397e+00 -1.00446209e-01  8.93058046e-01\n",
      "  1.37801674e-01  4.01282915e-01  1.31888343e+00  7.65997051e-01\n",
      "  3.60339449e-01  1.07580905e-01 -1.18758590e+00 -3.58820461e-01\n",
      " -1.55047524e-01  4.67536480e-01  1.25734780e+00  1.76579272e+00\n",
      " -1.98240995e+00 -4.14314101e-01 -2.38095607e+00  1.78234492e+00\n",
      "  9.87732408e-02 -8.27453175e-01  6.28467061e-01 -6.24843461e-01\n",
      "  6.97251013e-01 -4.29341581e-01 -2.03291999e-02 -8.33664045e-01\n",
      "  4.46971576e-01 -9.60777738e-01  3.34807359e-01 -1.37317785e+00\n",
      " -6.49015883e-04  2.16217183e+00  1.08490542e+00 -4.10916758e-01\n",
      " -1.30275349e+00  6.92497566e-02 -2.15043291e+00  1.21151788e-01\n",
      "  2.31781505e-01  5.37535734e-01  3.00786989e-01  4.87000375e-01\n",
      " -3.37513817e-01  1.59376639e+00  4.49427682e-01 -1.35403364e+00\n",
      "  7.16687555e-01  2.49879305e-01 -1.07917817e-01 -2.51656472e-01\n",
      " -7.31843365e-01  7.51912654e-01  8.09461868e-01 -8.24900845e-02\n",
      " -2.69281120e-01  1.12824639e+00  2.16816894e+00 -2.64896258e-01\n",
      " -9.82705586e-01 -1.26518102e+00 -5.14351342e-01 -2.77909382e-01\n",
      " -7.47920427e-02  7.15980179e-01  3.80666189e-01 -1.20686694e+00\n",
      "  2.14022144e-01  2.48899854e-01 -8.80154763e-01  1.76005295e+00\n",
      "  7.70402799e-03  1.48597047e+00 -6.36451704e-01  2.58515800e-01\n",
      "  6.80805479e-01 -5.36478378e-01 -1.68478118e+00 -1.02595510e+00\n",
      "  5.70772403e-01 -7.28496640e-02  1.05198093e+00  4.66538531e-01\n",
      " -1.72043602e-01 -4.57194022e-01  2.33696051e-01 -1.05012822e+00\n",
      "  6.43410638e-01  8.32465905e-01 -7.15378369e-01 -7.11885369e-01\n",
      " -5.15351901e-01  6.38452894e-01  6.92633472e-01 -1.66674398e+00\n",
      "  1.87809022e-01  4.05359916e-02  5.74051697e-01  6.76240262e-01\n",
      "  1.46501831e-01  1.26596529e+00 -3.02647899e-01  8.35388024e-01\n",
      " -1.42936023e+00  9.81552187e-01 -1.58916369e+00 -5.84475775e-01\n",
      " -1.53480688e-01 -7.91592074e-01  2.85328968e-01  1.14348907e+00\n",
      " -8.31944806e-01  3.36703069e-01 -2.70616450e-01  6.91932608e-02\n",
      "  2.12919650e-01  6.81188000e-01  9.65846908e-01 -1.23360313e+00\n",
      " -5.12172664e-01 -8.76548410e-03  3.72010077e-01 -1.07415305e+00\n",
      "  2.31537382e-01  5.78111963e-01 -9.04215346e-01  8.44872514e-01\n",
      " -1.58067523e+00  1.48316867e+00  2.58755054e-01  1.03529623e+00\n",
      " -1.13720189e+00  1.26243414e+00  7.53689022e-01  3.66566373e-01\n",
      " -1.86035116e+00 -1.34244106e+00  3.63433272e-01 -5.22930773e-01\n",
      " -1.68491767e-01  1.14809195e+00  7.59145050e-01 -1.67782601e+00\n",
      "  5.48609547e-02 -5.30530833e-01 -2.55661856e-01  6.01753350e-01\n",
      " -9.41833197e-01  9.73478834e-01  1.01661371e+00 -3.48354116e-01\n",
      "  2.52133932e-01  3.98923112e-01  4.45080409e-01 -9.98725346e-01\n",
      " -3.88692370e-01  1.19942787e-01  6.62562086e-03  5.13065971e-01\n",
      "  2.20256309e-01 -1.24268871e-01  2.49540443e-01 -4.58838258e-01\n",
      "  1.33819137e+00 -1.23199683e+00  7.11583574e-03 -3.93721096e-01\n",
      " -3.33926319e-01 -1.57957308e+00  1.51903692e-01  3.27371947e-01\n",
      "  2.92129819e-01 -1.12413308e+00  1.05774725e+00  1.14261997e+00\n",
      "  3.14672946e-01  1.44907957e-01 -4.93414106e-01  1.98380253e+00\n",
      "  4.08598764e-01  7.46513396e-01 -9.93292096e-01 -5.76347882e-01\n",
      " -4.25196118e-01 -7.08540634e-02 -7.46276248e-02 -2.86114759e-01\n",
      " -2.19068036e-01  5.56730486e-01  8.58581233e-01 -1.42793914e-01\n",
      "  7.01181334e-01 -1.54616018e-01 -1.26505361e+00 -5.54029516e-01\n",
      "  9.49364515e-01 -1.49927989e+00  2.48053198e+00  1.18453832e+00\n",
      " -1.61207209e+00 -1.14941938e+00 -3.53663445e-01 -1.58427386e+00\n",
      " -2.69615011e-02  4.00493642e-01  4.82214786e-01 -2.70967515e-01\n",
      "  6.06413101e-01  2.93959808e-01 -2.04334834e+00  1.93910265e-01\n",
      "  1.36326041e+00  5.85299206e-01 -4.47404188e-01  1.75956209e+00\n",
      " -9.14681253e-01 -5.63017187e-01  1.65481437e+00  3.78569722e-01\n",
      " -9.03652599e-01 -4.49537154e-01 -5.14653811e-01 -6.51629170e-01\n",
      "  8.43863804e-01 -1.95984170e+00  2.16613611e-01  3.25365648e-01\n",
      " -4.74212357e-01  1.69984016e+00 -3.77146349e-01 -6.90589345e-01\n",
      "  6.12226639e-01  1.58232385e+00 -9.35454812e-04 -1.04913833e+00\n",
      " -2.23895427e+00  7.52326735e-01  1.40988652e+00 -2.07626977e-01\n",
      " -8.56562545e-02 -3.17784561e-01  4.57649057e-02 -1.72606104e+00\n",
      "  1.29185186e+00 -2.62938622e-02  3.50390441e-01  8.19712733e-01\n",
      " -3.27157206e-02 -1.11581528e-01 -9.31471597e-01 -4.48583186e-01\n",
      "  4.34953946e-01 -2.19345186e-01  4.82643574e-01 -6.24231616e-01\n",
      "  1.30603406e+00  1.47303063e+00 -7.67546385e-01 -2.19323624e+00\n",
      " -5.44890610e-01 -9.02689103e-01  6.40790273e-01  1.96536362e+00\n",
      " -9.86577986e-01  1.31575580e+00  8.46040214e-01 -6.22578350e-01\n",
      " -5.84377789e-01 -1.43654419e+00  4.67699026e-01  1.07663565e-01\n",
      "  1.22209753e+00  8.02473262e-02 -1.43731929e+00 -3.78313738e-01\n",
      " -3.25248529e-01 -7.52111249e-03 -1.83271572e-01 -4.82601805e-01\n",
      "  8.09254925e-01  1.92477379e+00  6.81076775e-02 -1.56064058e-01\n",
      "  7.40744204e-01 -1.06633398e+00  1.32018994e+00 -8.95106703e-01\n",
      " -1.05915384e+00  1.22382287e+00 -1.76206104e-01 -4.89422621e-01\n",
      "  1.02437252e+00 -1.74785197e+00 -4.09005499e-01 -2.20597670e-01\n",
      "  1.37216119e+00  2.35079674e+00 -1.74648033e+00 -1.33972369e-01\n",
      "  2.25924796e+00 -1.61989650e+00  1.90070835e+00 -8.81063252e-01\n",
      " -8.60522134e-01  7.07118105e-01 -1.51992621e+00  5.13280618e-01\n",
      "  3.32673608e-01  3.48704178e-01 -1.18032473e+00 -8.61834242e-01\n",
      " -1.08855093e+00 -1.73216544e-01 -1.21069408e+00  2.15269858e+00\n",
      "  1.71349262e+00 -5.31895400e-01 -7.38679188e-01 -1.71864205e+00\n",
      "  3.77206451e-01  6.11327245e-01  1.68467343e+00 -3.26322135e-01\n",
      "  1.10436247e-01 -1.31344850e-01  1.16294739e+00 -5.36725308e-01\n",
      " -1.80090625e-01 -7.08071458e-01  6.78013795e-01 -6.40663578e-02\n",
      " -5.82699943e-01 -5.55397301e-01  1.28473199e+00 -3.67297329e-01\n",
      " -1.51604500e-01  9.79831011e-01 -2.90422324e-01 -5.20916019e-01\n",
      " -4.73343408e-01  3.53184133e-01 -3.38698464e-01  8.20432457e-01\n",
      " -3.78462886e-01  1.10144141e-01  8.68887372e-01 -4.22669703e-01\n",
      " -1.70895038e-01  2.37894815e-01  2.94202082e-02 -5.20786999e-02\n",
      " -1.58622548e+00  1.38960335e+00 -1.35376935e-01 -2.68704026e-01\n",
      "  1.53803600e+00  8.33861355e-01  8.23731987e-01 -8.03895081e-01\n",
      "  1.12807781e-01  5.81789546e-03 -1.56783283e+00 -1.25691934e+00\n",
      "  3.14392239e-01  5.02665648e-01  2.58864715e-01  1.27095457e-01\n",
      " -9.10740795e-01  1.93523890e-01 -1.28526874e-01  2.99263807e-01\n",
      "  6.40753288e-02 -4.06221177e-01 -4.87004062e-01 -1.26308374e+00\n",
      "  7.29053921e-01  1.41295705e+00  7.72948569e-01  6.27329550e-01\n",
      " -1.40987451e-01 -8.16476133e-01 -8.64563307e-01  1.79005208e-01\n",
      " -1.49179600e-01  7.43968894e-01 -1.78248842e+00 -3.94129089e-01\n",
      "  9.77518006e-02  5.33066881e-01 -1.96052599e-01  8.80482826e-01\n",
      "  1.28637588e-01 -1.12378775e-02 -1.49668202e+00 -1.63956444e+00\n",
      " -8.85858058e-01  8.64500710e-01  7.66340792e-01  5.87957715e-01\n",
      "  1.18550796e+00 -1.33239510e+00  1.95019243e+00 -5.83219147e-01\n",
      " -1.05671962e+00 -1.92111687e+00  2.33422665e+00  1.92219796e+00\n",
      " -1.04966291e-01 -6.38661612e-01  3.52783605e-01 -3.04524670e-01\n",
      "  8.57603012e-01 -5.89901159e-01  7.25140424e-02 -1.28947748e+00\n",
      "  6.22342368e-01  1.17594676e-01  2.09324545e-01  1.54474006e+00\n",
      " -2.46845186e+00 -1.70465527e+00 -7.77806445e-01  6.32364216e-01\n",
      "  5.94169452e-01 -7.42256995e-01  6.78622240e-01  2.24327460e+00\n",
      "  1.62432388e-01 -3.22788859e-01  1.57292703e+00 -8.64059954e-01\n",
      " -5.26870180e-02 -1.12810111e+00  8.17170166e-01  2.33298517e-01\n",
      " -4.18191164e-01  3.55757239e-01  1.18023070e-01  3.02779039e-01\n",
      "  1.12507041e+00 -1.33938201e+00  5.01729477e-01 -1.06397723e+00\n",
      "  9.07016816e-01  2.48614165e+00  1.39659948e+00 -1.16371579e+00\n",
      " -4.96392012e-01 -2.05492777e+00 -2.09138916e-01  2.52100481e-01\n",
      "  4.17572340e-01 -1.46581652e+00 -6.94397455e-02  2.69693322e-01\n",
      " -2.51422962e-02 -1.08551176e+00  3.89702347e-01  3.37506796e-01\n",
      " -1.28916099e+00 -2.35136460e-01  3.56971245e-01  1.28107780e+00\n",
      " -1.18844991e+00 -1.54684996e+00  1.53607111e+00  6.04601268e-01\n",
      "  7.04829799e-01 -7.78745227e-01  6.68542921e-01 -7.08993977e-01\n",
      "  8.51895648e-01 -1.65850489e+00  5.82260820e-01  6.01620345e-01\n",
      " -2.56088674e-01  5.87810724e-01  8.89516156e-01 -9.38304164e-01\n",
      "  8.38798535e-01 -1.63952402e-01 -6.82228137e-01  1.49945748e+00\n",
      " -1.44328746e+00  7.16741372e-01  2.46224119e-01  3.66807083e-01\n",
      " -1.93885019e-01 -2.13521751e+00 -1.36733097e-01  1.13606305e+00\n",
      " -5.72467282e-01 -1.26992492e+00 -3.20511475e-01 -1.50433939e-01\n",
      " -2.70092846e-01  1.20436903e+00  6.16872209e-01  1.42513184e-01\n",
      "  6.19676041e-01 -8.99075593e-01  8.87275590e-01 -7.27035791e-01\n",
      "  1.54151722e-01 -3.49540370e-01 -1.67529192e-01  1.39541355e+00\n",
      "  4.12210259e-01 -7.05870170e-01 -4.37682109e-01 -3.02171183e-01\n",
      "  3.16490519e+00 -1.96717690e-01  2.41932036e-01 -2.35191232e+00\n",
      " -1.74515050e-01 -4.02410980e-01  5.22643411e-01  7.67476550e-01\n",
      " -8.31547857e-01  6.80188468e-01  9.01904257e-01  5.34404744e-01\n",
      "  5.07234453e-01 -5.57571820e-01 -2.26329228e-01  2.50976546e-03\n",
      " -6.64221098e-01 -1.82980846e-01 -5.86130689e-01 -4.09008007e-01\n",
      "  4.87441221e-02  8.37544500e-01  1.09849520e+00 -2.08023098e+00\n",
      " -2.21455169e-01 -8.06100084e-01  1.12300242e+00 -6.53901828e-01\n",
      " -6.25476293e-01  2.24106609e-01  1.50538158e+00 -9.04356885e-01\n",
      " -1.26792271e+00  1.44592055e-01  9.00253965e-01  2.78438332e-01\n",
      " -5.10370310e-01  9.09255481e-01]\n"
     ]
    }
   ],
   "source": [
    "print(kernels[0])"
   ]
  },
  {
   "cell_type": "code",
   "execution_count": 11,
   "metadata": {},
   "outputs": [
    {
     "name": "stdout",
     "output_type": "stream",
     "text": [
      "(10000, 200)\n"
     ]
    }
   ],
   "source": [
    "features = apply_kernels(data_chunk.values,kernels)\n",
    "print(features.shape)"
   ]
  },
  {
   "cell_type": "code",
   "execution_count": 13,
   "metadata": {},
   "outputs": [
    {
     "name": "stdout",
     "output_type": "stream",
     "text": [
      "Features:  [[ 3.57142857e-02  8.92141260e+02 -0.00000000e+00 ...  2.10453799e+03\n",
      "   2.14285714e-01  2.85102614e+00]\n",
      " [ 3.57142857e-02  8.92141260e+02 -0.00000000e+00 ...  2.10453799e+03\n",
      "   2.14285714e-01  2.85102614e+00]\n",
      " [ 3.57142857e-02  8.98016652e+02 -0.00000000e+00 ...  2.10975880e+03\n",
      "   2.14285714e-01  2.85102614e+00]\n",
      " ...\n",
      " [ 3.57142857e-02  8.57019093e+02 -0.00000000e+00 ...  2.01722142e+03\n",
      "   1.78571429e-01  2.02596049e+01]\n",
      " [ 3.57142857e-02  8.58506352e+02 -0.00000000e+00 ...  2.01970502e+03\n",
      "   1.78571429e-01  2.05005103e+01]\n",
      " [ 3.57142857e-02  8.59387394e+02 -0.00000000e+00 ...  2.02253344e+03\n",
      "   1.78571429e-01  2.36703170e+01]]\n"
     ]
    }
   ],
   "source": [
    "print(\"Features: \",features)"
   ]
  },
  {
   "cell_type": "code",
   "execution_count": 2,
   "metadata": {},
   "outputs": [],
   "source": [
    "test_chunk = 500_000\n",
    "num_kernels = 1000\n",
    "model_path = 'models/rocket_ridge_1000.pkl'\n",
    "test_data_chunks = pd.read_csv('data/NGAFID_test_data.csv',chunksize=test_chunk)\n",
    "test_data = next(test_data_chunks) # only one chunk\n",
    "model = joblib.load(model_path)\n"
   ]
  },
  {
   "cell_type": "code",
   "execution_count": 3,
   "metadata": {},
   "outputs": [
    {
     "name": "stdout",
     "output_type": "stream",
     "text": [
      "Model:  RocketClassifier(num_kernels=1000)\n"
     ]
    }
   ],
   "source": [
    "print(\"Model: \",model)"
   ]
  },
  {
   "cell_type": "code",
   "execution_count": 4,
   "metadata": {},
   "outputs": [
    {
     "ename": "NameError",
     "evalue": "name 'kernels' is not defined",
     "output_type": "error",
     "traceback": [
      "\u001b[0;31m---------------------------------------------------------------------------\u001b[0m",
      "\u001b[0;31mNameError\u001b[0m                                 Traceback (most recent call last)",
      "Cell \u001b[0;32mIn[4], line 2\u001b[0m\n\u001b[1;32m      1\u001b[0m \u001b[38;5;66;03m#get the features from the model\u001b[39;00m\n\u001b[0;32m----> 2\u001b[0m model\u001b[38;5;241m.\u001b[39mkernels \u001b[38;5;241m=\u001b[39m \u001b[43mkernels\u001b[49m\n",
      "\u001b[0;31mNameError\u001b[0m: name 'kernels' is not defined"
     ]
    }
   ],
   "source": [
    "#get the features from the model\n",
    "model.kernels = kernels\n"
   ]
  },
  {
   "cell_type": "markdown",
   "metadata": {},
   "source": [
    "MLFLOW UI"
   ]
  },
  {
   "cell_type": "code",
   "execution_count": 2,
   "metadata": {},
   "outputs": [
    {
     "name": "stdout",
     "output_type": "stream",
     "text": [
      "Collecting mlflow\n",
      "  Downloading mlflow-2.17.0-py3-none-any.whl.metadata (29 kB)\n",
      "Collecting mlflow-skinny==2.17.0 (from mlflow)\n",
      "  Downloading mlflow_skinny-2.17.0-py3-none-any.whl.metadata (30 kB)\n",
      "Collecting Flask<4 (from mlflow)\n",
      "  Using cached flask-3.0.3-py3-none-any.whl.metadata (3.2 kB)\n",
      "Collecting alembic!=1.10.0,<2 (from mlflow)\n",
      "  Using cached alembic-1.13.3-py3-none-any.whl.metadata (7.4 kB)\n",
      "Collecting docker<8,>=4.0.0 (from mlflow)\n",
      "  Using cached docker-7.1.0-py3-none-any.whl.metadata (3.8 kB)\n",
      "Collecting graphene<4 (from mlflow)\n",
      "  Downloading graphene-3.4-py2.py3-none-any.whl.metadata (6.7 kB)\n",
      "Collecting markdown<4,>=3.3 (from mlflow)\n",
      "  Using cached Markdown-3.7-py3-none-any.whl.metadata (7.0 kB)\n",
      "Requirement already satisfied: matplotlib<4 in /Users/manasdubey2022/anaconda3/envs/ngafid_env/lib/python3.9/site-packages (from mlflow) (3.9.2)\n",
      "Requirement already satisfied: numpy<3 in /Users/manasdubey2022/anaconda3/envs/ngafid_env/lib/python3.9/site-packages (from mlflow) (1.26.4)\n",
      "Requirement already satisfied: pandas<3 in /Users/manasdubey2022/anaconda3/envs/ngafid_env/lib/python3.9/site-packages (from mlflow) (2.2.3)\n",
      "Collecting pyarrow<18,>=4.0.0 (from mlflow)\n",
      "  Downloading pyarrow-17.0.0-cp39-cp39-macosx_11_0_arm64.whl.metadata (3.3 kB)\n",
      "Requirement already satisfied: scikit-learn<2 in /Users/manasdubey2022/anaconda3/envs/ngafid_env/lib/python3.9/site-packages (from mlflow) (1.5.2)\n",
      "Requirement already satisfied: scipy<2 in /Users/manasdubey2022/anaconda3/envs/ngafid_env/lib/python3.9/site-packages (from mlflow) (1.13.1)\n",
      "Collecting sqlalchemy<3,>=1.4.0 (from mlflow)\n",
      "  Downloading SQLAlchemy-2.0.36-cp39-cp39-macosx_11_0_arm64.whl.metadata (9.7 kB)\n",
      "Requirement already satisfied: Jinja2<4,>=2.11 in /Users/manasdubey2022/anaconda3/envs/ngafid_env/lib/python3.9/site-packages (from mlflow) (3.1.4)\n",
      "Collecting gunicorn<24 (from mlflow)\n",
      "  Using cached gunicorn-23.0.0-py3-none-any.whl.metadata (4.4 kB)\n",
      "Collecting cachetools<6,>=5.0.0 (from mlflow-skinny==2.17.0->mlflow)\n",
      "  Using cached cachetools-5.5.0-py3-none-any.whl.metadata (5.3 kB)\n",
      "Requirement already satisfied: click<9,>=7.0 in /Users/manasdubey2022/anaconda3/envs/ngafid_env/lib/python3.9/site-packages (from mlflow-skinny==2.17.0->mlflow) (8.1.7)\n",
      "Collecting cloudpickle<4 (from mlflow-skinny==2.17.0->mlflow)\n",
      "  Downloading cloudpickle-3.1.0-py3-none-any.whl.metadata (7.0 kB)\n",
      "Collecting databricks-sdk<1,>=0.20.0 (from mlflow-skinny==2.17.0->mlflow)\n",
      "  Downloading databricks_sdk-0.35.0-py3-none-any.whl.metadata (38 kB)\n",
      "Collecting gitpython<4,>=3.1.9 (from mlflow-skinny==2.17.0->mlflow)\n",
      "  Using cached GitPython-3.1.43-py3-none-any.whl.metadata (13 kB)\n",
      "Requirement already satisfied: importlib-metadata!=4.7.0,<9,>=3.7.0 in /Users/manasdubey2022/anaconda3/envs/ngafid_env/lib/python3.9/site-packages (from mlflow-skinny==2.17.0->mlflow) (8.5.0)\n",
      "Collecting opentelemetry-api<3,>=1.9.0 (from mlflow-skinny==2.17.0->mlflow)\n",
      "  Using cached opentelemetry_api-1.27.0-py3-none-any.whl.metadata (1.4 kB)\n",
      "Collecting opentelemetry-sdk<3,>=1.9.0 (from mlflow-skinny==2.17.0->mlflow)\n",
      "  Using cached opentelemetry_sdk-1.27.0-py3-none-any.whl.metadata (1.5 kB)\n",
      "Requirement already satisfied: packaging<25 in /Users/manasdubey2022/anaconda3/envs/ngafid_env/lib/python3.9/site-packages (from mlflow-skinny==2.17.0->mlflow) (24.1)\n",
      "Collecting protobuf<6,>=3.12.0 (from mlflow-skinny==2.17.0->mlflow)\n",
      "  Using cached protobuf-5.28.2-cp38-abi3-macosx_10_9_universal2.whl.metadata (592 bytes)\n",
      "Requirement already satisfied: pyyaml<7,>=5.1 in /Users/manasdubey2022/anaconda3/envs/ngafid_env/lib/python3.9/site-packages (from mlflow-skinny==2.17.0->mlflow) (6.0.2)\n",
      "Requirement already satisfied: requests<3,>=2.17.3 in /Users/manasdubey2022/anaconda3/envs/ngafid_env/lib/python3.9/site-packages (from mlflow-skinny==2.17.0->mlflow) (2.32.3)\n",
      "Collecting sqlparse<1,>=0.4.0 (from mlflow-skinny==2.17.0->mlflow)\n",
      "  Using cached sqlparse-0.5.1-py3-none-any.whl.metadata (3.9 kB)\n",
      "Collecting Mako (from alembic!=1.10.0,<2->mlflow)\n",
      "  Using cached Mako-1.3.5-py3-none-any.whl.metadata (2.9 kB)\n",
      "Requirement already satisfied: typing-extensions>=4 in /Users/manasdubey2022/anaconda3/envs/ngafid_env/lib/python3.9/site-packages (from alembic!=1.10.0,<2->mlflow) (4.12.2)\n",
      "Requirement already satisfied: urllib3>=1.26.0 in /Users/manasdubey2022/anaconda3/envs/ngafid_env/lib/python3.9/site-packages (from docker<8,>=4.0.0->mlflow) (2.2.3)\n",
      "Collecting Werkzeug>=3.0.0 (from Flask<4->mlflow)\n",
      "  Using cached werkzeug-3.0.4-py3-none-any.whl.metadata (3.7 kB)\n",
      "Collecting itsdangerous>=2.1.2 (from Flask<4->mlflow)\n",
      "  Using cached itsdangerous-2.2.0-py3-none-any.whl.metadata (1.9 kB)\n",
      "Collecting blinker>=1.6.2 (from Flask<4->mlflow)\n",
      "  Using cached blinker-1.8.2-py3-none-any.whl.metadata (1.6 kB)\n",
      "Collecting graphql-core<3.3,>=3.1 (from graphene<4->mlflow)\n",
      "  Downloading graphql_core-3.2.5-py3-none-any.whl.metadata (10 kB)\n",
      "Collecting graphql-relay<3.3,>=3.1 (from graphene<4->mlflow)\n",
      "  Using cached graphql_relay-3.2.0-py3-none-any.whl.metadata (12 kB)\n",
      "Requirement already satisfied: MarkupSafe>=2.0 in /Users/manasdubey2022/anaconda3/envs/ngafid_env/lib/python3.9/site-packages (from Jinja2<4,>=2.11->mlflow) (3.0.1)\n",
      "Requirement already satisfied: contourpy>=1.0.1 in /Users/manasdubey2022/anaconda3/envs/ngafid_env/lib/python3.9/site-packages (from matplotlib<4->mlflow) (1.3.0)\n",
      "Requirement already satisfied: cycler>=0.10 in /Users/manasdubey2022/anaconda3/envs/ngafid_env/lib/python3.9/site-packages (from matplotlib<4->mlflow) (0.12.1)\n",
      "Requirement already satisfied: fonttools>=4.22.0 in /Users/manasdubey2022/anaconda3/envs/ngafid_env/lib/python3.9/site-packages (from matplotlib<4->mlflow) (4.54.1)\n",
      "Requirement already satisfied: kiwisolver>=1.3.1 in /Users/manasdubey2022/anaconda3/envs/ngafid_env/lib/python3.9/site-packages (from matplotlib<4->mlflow) (1.4.7)\n",
      "Requirement already satisfied: pillow>=8 in /Users/manasdubey2022/anaconda3/envs/ngafid_env/lib/python3.9/site-packages (from matplotlib<4->mlflow) (10.4.0)\n",
      "Requirement already satisfied: pyparsing>=2.3.1 in /Users/manasdubey2022/anaconda3/envs/ngafid_env/lib/python3.9/site-packages (from matplotlib<4->mlflow) (3.1.4)\n",
      "Requirement already satisfied: python-dateutil>=2.7 in /Users/manasdubey2022/anaconda3/envs/ngafid_env/lib/python3.9/site-packages (from matplotlib<4->mlflow) (2.9.0)\n",
      "Requirement already satisfied: importlib-resources>=3.2.0 in /Users/manasdubey2022/anaconda3/envs/ngafid_env/lib/python3.9/site-packages (from matplotlib<4->mlflow) (6.4.5)\n",
      "Requirement already satisfied: pytz>=2020.1 in /Users/manasdubey2022/anaconda3/envs/ngafid_env/lib/python3.9/site-packages (from pandas<3->mlflow) (2024.1)\n",
      "Requirement already satisfied: tzdata>=2022.7 in /Users/manasdubey2022/anaconda3/envs/ngafid_env/lib/python3.9/site-packages (from pandas<3->mlflow) (2024.2)\n",
      "Requirement already satisfied: joblib>=1.2.0 in /Users/manasdubey2022/anaconda3/envs/ngafid_env/lib/python3.9/site-packages (from scikit-learn<2->mlflow) (1.4.2)\n",
      "Requirement already satisfied: threadpoolctl>=3.1.0 in /Users/manasdubey2022/anaconda3/envs/ngafid_env/lib/python3.9/site-packages (from scikit-learn<2->mlflow) (3.5.0)\n",
      "Collecting google-auth~=2.0 (from databricks-sdk<1,>=0.20.0->mlflow-skinny==2.17.0->mlflow)\n",
      "  Using cached google_auth-2.35.0-py2.py3-none-any.whl.metadata (4.7 kB)\n",
      "Collecting gitdb<5,>=4.0.1 (from gitpython<4,>=3.1.9->mlflow-skinny==2.17.0->mlflow)\n",
      "  Using cached gitdb-4.0.11-py3-none-any.whl.metadata (1.2 kB)\n",
      "Requirement already satisfied: zipp>=3.20 in /Users/manasdubey2022/anaconda3/envs/ngafid_env/lib/python3.9/site-packages (from importlib-metadata!=4.7.0,<9,>=3.7.0->mlflow-skinny==2.17.0->mlflow) (3.20.2)\n",
      "Collecting deprecated>=1.2.6 (from opentelemetry-api<3,>=1.9.0->mlflow-skinny==2.17.0->mlflow)\n",
      "  Using cached Deprecated-1.2.14-py2.py3-none-any.whl.metadata (5.4 kB)\n",
      "Collecting importlib-metadata!=4.7.0,<9,>=3.7.0 (from mlflow-skinny==2.17.0->mlflow)\n",
      "  Using cached importlib_metadata-8.4.0-py3-none-any.whl.metadata (4.7 kB)\n",
      "Collecting opentelemetry-semantic-conventions==0.48b0 (from opentelemetry-sdk<3,>=1.9.0->mlflow-skinny==2.17.0->mlflow)\n",
      "  Using cached opentelemetry_semantic_conventions-0.48b0-py3-none-any.whl.metadata (2.4 kB)\n",
      "Requirement already satisfied: six>=1.5 in /Users/manasdubey2022/anaconda3/envs/ngafid_env/lib/python3.9/site-packages (from python-dateutil>=2.7->matplotlib<4->mlflow) (1.16.0)\n",
      "Requirement already satisfied: charset-normalizer<4,>=2 in /Users/manasdubey2022/anaconda3/envs/ngafid_env/lib/python3.9/site-packages (from requests<3,>=2.17.3->mlflow-skinny==2.17.0->mlflow) (3.3.2)\n",
      "Requirement already satisfied: idna<4,>=2.5 in /Users/manasdubey2022/anaconda3/envs/ngafid_env/lib/python3.9/site-packages (from requests<3,>=2.17.3->mlflow-skinny==2.17.0->mlflow) (3.10)\n",
      "Requirement already satisfied: certifi>=2017.4.17 in /Users/manasdubey2022/anaconda3/envs/ngafid_env/lib/python3.9/site-packages (from requests<3,>=2.17.3->mlflow-skinny==2.17.0->mlflow) (2024.8.30)\n",
      "Requirement already satisfied: wrapt<2,>=1.10 in /Users/manasdubey2022/anaconda3/envs/ngafid_env/lib/python3.9/site-packages (from deprecated>=1.2.6->opentelemetry-api<3,>=1.9.0->mlflow-skinny==2.17.0->mlflow) (1.16.0)\n",
      "Collecting smmap<6,>=3.0.1 (from gitdb<5,>=4.0.1->gitpython<4,>=3.1.9->mlflow-skinny==2.17.0->mlflow)\n",
      "  Using cached smmap-5.0.1-py3-none-any.whl.metadata (4.3 kB)\n",
      "Collecting pyasn1-modules>=0.2.1 (from google-auth~=2.0->databricks-sdk<1,>=0.20.0->mlflow-skinny==2.17.0->mlflow)\n",
      "  Using cached pyasn1_modules-0.4.1-py3-none-any.whl.metadata (3.5 kB)\n",
      "Collecting rsa<5,>=3.1.4 (from google-auth~=2.0->databricks-sdk<1,>=0.20.0->mlflow-skinny==2.17.0->mlflow)\n",
      "  Using cached rsa-4.9-py3-none-any.whl.metadata (4.2 kB)\n",
      "Collecting pyasn1<0.7.0,>=0.4.6 (from pyasn1-modules>=0.2.1->google-auth~=2.0->databricks-sdk<1,>=0.20.0->mlflow-skinny==2.17.0->mlflow)\n",
      "  Using cached pyasn1-0.6.1-py3-none-any.whl.metadata (8.4 kB)\n",
      "Downloading mlflow-2.17.0-py3-none-any.whl (26.7 MB)\n",
      "\u001b[2K   \u001b[90m━━━━━━━━━━━━━━━━━━━━━━━━━━━━━━━━━━━━━━━━\u001b[0m \u001b[32m26.7/26.7 MB\u001b[0m \u001b[31m11.4 MB/s\u001b[0m eta \u001b[36m0:00:00\u001b[0ma \u001b[36m0:00:01\u001b[0m\n",
      "\u001b[?25hDownloading mlflow_skinny-2.17.0-py3-none-any.whl (5.7 MB)\n",
      "\u001b[2K   \u001b[90m━━━━━━━━━━━━━━━━━━━━━━━━━━━━━━━━━━━━━━━━\u001b[0m \u001b[32m5.7/5.7 MB\u001b[0m \u001b[31m11.4 MB/s\u001b[0m eta \u001b[36m0:00:00\u001b[0ma \u001b[36m0:00:01\u001b[0m\n",
      "\u001b[?25hUsing cached alembic-1.13.3-py3-none-any.whl (233 kB)\n",
      "Using cached docker-7.1.0-py3-none-any.whl (147 kB)\n",
      "Using cached flask-3.0.3-py3-none-any.whl (101 kB)\n",
      "Downloading graphene-3.4-py2.py3-none-any.whl (114 kB)\n",
      "Using cached gunicorn-23.0.0-py3-none-any.whl (85 kB)\n",
      "Using cached Markdown-3.7-py3-none-any.whl (106 kB)\n",
      "Downloading pyarrow-17.0.0-cp39-cp39-macosx_11_0_arm64.whl (27.2 MB)\n",
      "\u001b[2K   \u001b[90m━━━━━━━━━━━━━━━━━━━━━━━━━━━━━━━━━━━━━━━━\u001b[0m \u001b[32m27.2/27.2 MB\u001b[0m \u001b[31m11.6 MB/s\u001b[0m eta \u001b[36m0:00:00\u001b[0ma \u001b[36m0:00:01\u001b[0m\n",
      "\u001b[?25hDownloading SQLAlchemy-2.0.36-cp39-cp39-macosx_11_0_arm64.whl (2.1 MB)\n",
      "\u001b[2K   \u001b[90m━━━━━━━━━━━━━━━━━━━━━━━━━━━━━━━━━━━━━━━━\u001b[0m \u001b[32m2.1/2.1 MB\u001b[0m \u001b[31m10.9 MB/s\u001b[0m eta \u001b[36m0:00:00\u001b[0m\n",
      "\u001b[?25hUsing cached blinker-1.8.2-py3-none-any.whl (9.5 kB)\n",
      "Using cached cachetools-5.5.0-py3-none-any.whl (9.5 kB)\n",
      "Downloading cloudpickle-3.1.0-py3-none-any.whl (22 kB)\n",
      "Downloading databricks_sdk-0.35.0-py3-none-any.whl (568 kB)\n",
      "\u001b[2K   \u001b[90m━━━━━━━━━━━━━━━━━━━━━━━━━━━━━━━━━━━━━━━━\u001b[0m \u001b[32m568.4/568.4 kB\u001b[0m \u001b[31m8.8 MB/s\u001b[0m eta \u001b[36m0:00:00\u001b[0m\n",
      "\u001b[?25hUsing cached GitPython-3.1.43-py3-none-any.whl (207 kB)\n",
      "Downloading graphql_core-3.2.5-py3-none-any.whl (203 kB)\n",
      "Using cached graphql_relay-3.2.0-py3-none-any.whl (16 kB)\n",
      "Using cached itsdangerous-2.2.0-py3-none-any.whl (16 kB)\n",
      "Using cached opentelemetry_api-1.27.0-py3-none-any.whl (63 kB)\n",
      "Using cached importlib_metadata-8.4.0-py3-none-any.whl (26 kB)\n",
      "Using cached opentelemetry_sdk-1.27.0-py3-none-any.whl (110 kB)\n",
      "Using cached opentelemetry_semantic_conventions-0.48b0-py3-none-any.whl (149 kB)\n",
      "Using cached protobuf-5.28.2-cp38-abi3-macosx_10_9_universal2.whl (414 kB)\n",
      "Using cached sqlparse-0.5.1-py3-none-any.whl (44 kB)\n",
      "Using cached werkzeug-3.0.4-py3-none-any.whl (227 kB)\n",
      "Using cached Mako-1.3.5-py3-none-any.whl (78 kB)\n",
      "Using cached Deprecated-1.2.14-py2.py3-none-any.whl (9.6 kB)\n",
      "Using cached gitdb-4.0.11-py3-none-any.whl (62 kB)\n",
      "Using cached google_auth-2.35.0-py2.py3-none-any.whl (208 kB)\n",
      "Using cached pyasn1_modules-0.4.1-py3-none-any.whl (181 kB)\n",
      "Using cached rsa-4.9-py3-none-any.whl (34 kB)\n",
      "Using cached smmap-5.0.1-py3-none-any.whl (24 kB)\n",
      "Using cached pyasn1-0.6.1-py3-none-any.whl (83 kB)\n",
      "Installing collected packages: Werkzeug, sqlparse, sqlalchemy, smmap, pyasn1, pyarrow, protobuf, Mako, itsdangerous, importlib-metadata, gunicorn, graphql-core, deprecated, cloudpickle, cachetools, blinker, rsa, pyasn1-modules, opentelemetry-api, markdown, graphql-relay, gitdb, Flask, docker, alembic, opentelemetry-semantic-conventions, graphene, google-auth, gitpython, opentelemetry-sdk, databricks-sdk, mlflow-skinny, mlflow\n",
      "  Attempting uninstall: importlib-metadata\n",
      "    Found existing installation: importlib_metadata 8.5.0\n",
      "    Uninstalling importlib_metadata-8.5.0:\n",
      "      Successfully uninstalled importlib_metadata-8.5.0\n",
      "Successfully installed Flask-3.0.3 Mako-1.3.5 Werkzeug-3.0.4 alembic-1.13.3 blinker-1.8.2 cachetools-5.5.0 cloudpickle-3.1.0 databricks-sdk-0.35.0 deprecated-1.2.14 docker-7.1.0 gitdb-4.0.11 gitpython-3.1.43 google-auth-2.35.0 graphene-3.4 graphql-core-3.2.5 graphql-relay-3.2.0 gunicorn-23.0.0 importlib-metadata-8.4.0 itsdangerous-2.2.0 markdown-3.7 mlflow-2.17.0 mlflow-skinny-2.17.0 opentelemetry-api-1.27.0 opentelemetry-sdk-1.27.0 opentelemetry-semantic-conventions-0.48b0 protobuf-5.28.2 pyarrow-17.0.0 pyasn1-0.6.1 pyasn1-modules-0.4.1 rsa-4.9 smmap-5.0.1 sqlalchemy-2.0.36 sqlparse-0.5.1\n"
     ]
    }
   ],
   "source": [
    "\n",
    "!pip install mlflow\n",
    "import mlflow\n",
    "import mlflow.pytorch"
   ]
  },
  {
   "cell_type": "code",
   "execution_count": null,
   "metadata": {},
   "outputs": [],
   "source": [
    "# launch the ui with mlflow ui --backend-store-uri mlruns/\n"
   ]
  }
 ],
 "metadata": {
  "kernelspec": {
   "display_name": "ngafid_env",
   "language": "python",
   "name": "python3"
  },
  "language_info": {
   "codemirror_mode": {
    "name": "ipython",
    "version": 3
   },
   "file_extension": ".py",
   "mimetype": "text/x-python",
   "name": "python",
   "nbconvert_exporter": "python",
   "pygments_lexer": "ipython3",
   "version": "3.9.20"
  }
 },
 "nbformat": 4,
 "nbformat_minor": 2
}
